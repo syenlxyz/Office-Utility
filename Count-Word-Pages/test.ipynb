{
 "cells": [
  {
   "cell_type": "code",
   "execution_count": 11,
   "metadata": {},
   "outputs": [],
   "source": [
    "from pathlib import Path"
   ]
  },
  {
   "cell_type": "code",
   "execution_count": 12,
   "metadata": {},
   "outputs": [],
   "source": [
    "input_path = Path.cwd() / 'input'"
   ]
  },
  {
   "cell_type": "code",
   "execution_count": 13,
   "metadata": {},
   "outputs": [],
   "source": [
    "path_list = list(input_path.iterdir())"
   ]
  },
  {
   "cell_type": "code",
   "execution_count": 14,
   "metadata": {},
   "outputs": [
    {
     "data": {
      "text/plain": [
       "[WindowsPath('c:/Users/syenl/Desktop/Office-Utility/Count-Word-Pages/input/test-p1.docx'),\n",
       " WindowsPath('c:/Users/syenl/Desktop/Office-Utility/Count-Word-Pages/input/test-p2.docx'),\n",
       " WindowsPath('c:/Users/syenl/Desktop/Office-Utility/Count-Word-Pages/input/test-p3.docx'),\n",
       " WindowsPath('c:/Users/syenl/Desktop/Office-Utility/Count-Word-Pages/input/test-p4.doc')]"
      ]
     },
     "execution_count": 14,
     "metadata": {},
     "output_type": "execute_result"
    }
   ],
   "source": [
    "file_list = []\n",
    "for path in path_list:\n",
    "    for ext in ['.doc', '.docx']:\n",
    "        if path.suffix == ext:\n",
    "            file_list.append(path)\n",
    "            break\n",
    "file_list"
   ]
  },
  {
   "cell_type": "code",
   "execution_count": 15,
   "metadata": {},
   "outputs": [],
   "source": [
    "suffix_list = ['.doc', '.docx']"
   ]
  },
  {
   "cell_type": "code",
   "execution_count": null,
   "metadata": {},
   "outputs": [],
   "source": []
  }
 ],
 "metadata": {
  "kernelspec": {
   "display_name": "base",
   "language": "python",
   "name": "python3"
  },
  "language_info": {
   "codemirror_mode": {
    "name": "ipython",
    "version": 3
   },
   "file_extension": ".py",
   "mimetype": "text/x-python",
   "name": "python",
   "nbconvert_exporter": "python",
   "pygments_lexer": "ipython3",
   "version": "3.11.7"
  }
 },
 "nbformat": 4,
 "nbformat_minor": 2
}
