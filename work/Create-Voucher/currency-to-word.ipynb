{
 "cells": [
  {
   "cell_type": "code",
   "execution_count": 17,
   "metadata": {},
   "outputs": [],
   "source": []
  },
  {
   "cell_type": "code",
   "execution_count": 12,
   "metadata": {},
   "outputs": [],
   "source": []
  },
  {
   "cell_type": "code",
   "execution_count": 13,
   "metadata": {},
   "outputs": [
    {
     "name": "stdout",
     "output_type": "stream",
     "text": [
      "0 zero\n",
      "1 one\n",
      "2 two\n",
      "3 three\n",
      "4 four\n",
      "5 five\n",
      "6 six\n",
      "7 seven\n",
      "8 eight\n",
      "9 nine\n",
      "10 ten\n",
      "11 eleven\n",
      "12 twelve\n",
      "13 thirteen\n",
      "14 fourteen\n",
      "15 fifteen\n",
      "16 sixteen\n",
      "17 seventeen\n",
      "18 eighteen\n",
      "19 nineteen\n",
      "20 twenty\n",
      "30 thirty\n",
      "40 forty\n",
      "50 fifty\n",
      "60 sixty\n",
      "70 seventy\n",
      "80 eighty\n",
      "90 ninety\n",
      "100 one hundred\n",
      "1000 one thousand\n",
      "1000000 one million\n",
      "1000000000 one billion\n",
      "1000000000000 one trillion\n"
     ]
    }
   ],
   "source": [
    "for item in data.keys():\n",
    "    print(item, num2words(item))"
   ]
  },
  {
   "cell_type": "code",
   "execution_count": 14,
   "metadata": {},
   "outputs": [],
   "source": [
    "amount = 69543521.11"
   ]
  },
  {
   "cell_type": "code",
   "execution_count": 15,
   "metadata": {},
   "outputs": [
    {
     "data": {
      "text/plain": [
       "'11'"
      ]
     },
     "execution_count": 21,
     "metadata": {},
     "output_type": "execute_result"
    }
   ],
   "source": [
    "str(amount).split('.')[-1]"
   ]
  },
  {
   "cell_type": "code",
   "execution_count": 16,
   "metadata": {},
   "outputs": [
    {
     "name": "stdout",
     "output_type": "stream",
     "text": [
      "0 \n",
      "1 one\n",
      "2 two\n",
      "3 three\n",
      "4 four\n",
      "5 five\n",
      "6 six\n",
      "7 seven\n",
      "8 eight\n",
      "9 nine\n",
      "10 ten\n",
      "11 eleven\n",
      "12 twelve\n",
      "13 thirteen\n",
      "14 fourteen\n",
      "15 fifteen\n",
      "16 sixteen\n",
      "17 seventeen\n",
      "18 eighteen\n",
      "19 nineteen\n",
      "20 twenty\n",
      "30 thirty\n",
      "40 forty\n",
      "50 fifty\n",
      "60 sixty\n",
      "70 seventy\n",
      "80 eighty\n",
      "90 ninety\n"
     ]
    }
   ],
   "source": [
    "for i in range(99):\n",
    "    if i in data.keys():\n",
    "        print(i, data[i])\n",
    "    else:\n",
    "        "
   ]
  },
  {
   "cell_type": "code",
   "execution_count": null,
   "metadata": {},
   "outputs": [
    {
     "data": {
      "text/plain": [
       "20"
      ]
     },
     "execution_count": 28,
     "metadata": {},
     "output_type": "execute_result"
    }
   ],
   "source": [
    "21 // 10 * 10"
   ]
  }
 ],
 "metadata": {
  "kernelspec": {
   "display_name": "base",
   "language": "python",
   "name": "python3"
  },
  "language_info": {
   "codemirror_mode": {
    "name": "ipython",
    "version": 3
   },
   "file_extension": ".py",
   "mimetype": "text/x-python",
   "name": "python",
   "nbconvert_exporter": "python",
   "pygments_lexer": "ipython3",
   "version": "3.11.7"
  }
 },
 "nbformat": 4,
 "nbformat_minor": 2
}
