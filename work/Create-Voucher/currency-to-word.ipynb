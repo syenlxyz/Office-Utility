{
 "cells": [
  {
   "cell_type": "code",
   "execution_count": 32,
   "metadata": {},
   "outputs": [],
   "source": [
    "num_to_word = {\n",
    "    0: '',\n",
    "    1: 'one',\n",
    "    2: 'two',\n",
    "    3: 'three',\n",
    "    4: 'four',\n",
    "    5: 'five',\n",
    "    6: 'six',\n",
    "    7: 'seven',\n",
    "    8: 'eight',\n",
    "    9: 'nine',\n",
    "    10: 'ten',\n",
    "    11: 'eleven',\n",
    "    12: 'twelve',\n",
    "    13: 'thirteen',\n",
    "    14: 'fourteen',\n",
    "    15: 'fifteen',\n",
    "    16: 'sixteen',\n",
    "    17: 'seventeen',\n",
    "    18: 'eighteen',\n",
    "    19: 'nineteen',\n",
    "    20: 'twenty',\n",
    "    30: 'thirty',\n",
    "    40: 'forty',\n",
    "    50: 'fifty',\n",
    "    60: 'sixty',\n",
    "    70: 'seventy',\n",
    "    80: 'eighty',\n",
    "    90: 'ninety',\n",
    "    1000: 'thousand',\n",
    "    1000000: 'million',\n",
    "    1000000000: 'biliion',\n",
    "    1000000000000: 'trillion'\n",
    "}"
   ]
  },
  {
   "cell_type": "code",
   "execution_count": 33,
   "metadata": {},
   "outputs": [],
   "source": [
    "below_100 = {\n",
    "    2: 'twenty',\n",
    "    3: 'thirty',\n",
    "    4: 'forty',\n",
    "    5: 'fifty',\n",
    "    6: 'sixty',\n",
    "    7: 'seventy',\n",
    "    8: 'eighty',\n",
    "    9: 'ninety'\n",
    "}"
   ]
  },
  {
   "cell_type": "code",
   "execution_count": 34,
   "metadata": {},
   "outputs": [],
   "source": [
    "above_100 = {\n",
    "    1: 'thousand',\n",
    "    2: 'million',\n",
    "    3: 'biliion',\n",
    "    4: 'trillion'\n",
    "}"
   ]
  },
  {
   "cell_type": "code",
   "execution_count": 35,
   "metadata": {},
   "outputs": [],
   "source": [
    "def num_to_word(num):\n",
    "    num_digit = len(str(num))\n",
    "    power = (num_digit - 1) // 3\n",
    "    if num < 20:\n",
    "        return below_20[num]\n",
    "    elif num < 100:\n",
    "        return ' '.join([below_100[num // 10], num_to_word(num % 10)])\n",
    "    elif num < 1000:\n",
    "        return ' '.join([num_to_word(num // 100), 'hundred', num_to_word(num % 100)])\n",
    "    elif power < 5:\n",
    "        return ' '.join([num_to_word(num // 1000 ** power), above_100[power], num_to_word(num % 1000 ** power)])\n",
    "    else:\n",
    "        return None"
   ]
  },
  {
   "cell_type": "code",
   "execution_count": 36,
   "metadata": {},
   "outputs": [
    {
     "name": "stdout",
     "output_type": "stream",
     "text": [
      "983123452346781 nine hundred eighty three trillion one hundred twenty three biliion four hundred fifty two million three hundred forty six thousand seven hundred eighty one\n",
      "983123452346782 nine hundred eighty three trillion one hundred twenty three biliion four hundred fifty two million three hundred forty six thousand seven hundred eighty two\n",
      "983123452346783 nine hundred eighty three trillion one hundred twenty three biliion four hundred fifty two million three hundred forty six thousand seven hundred eighty three\n",
      "983123452346784 nine hundred eighty three trillion one hundred twenty three biliion four hundred fifty two million three hundred forty six thousand seven hundred eighty four\n",
      "983123452346785 nine hundred eighty three trillion one hundred twenty three biliion four hundred fifty two million three hundred forty six thousand seven hundred eighty five\n",
      "983123452346786 nine hundred eighty three trillion one hundred twenty three biliion four hundred fifty two million three hundred forty six thousand seven hundred eighty six\n",
      "983123452346787 nine hundred eighty three trillion one hundred twenty three biliion four hundred fifty two million three hundred forty six thousand seven hundred eighty seven\n",
      "983123452346788 nine hundred eighty three trillion one hundred twenty three biliion four hundred fifty two million three hundred forty six thousand seven hundred eighty eight\n"
     ]
    }
   ],
   "source": [
    "for i in range(983123452346781, 983123452346789):\n",
    "    value = num_to_word(i)\n",
    "    print(i, value)"
   ]
  },
  {
   "cell_type": "code",
   "execution_count": null,
   "metadata": {},
   "outputs": [],
   "source": []
  },
  {
   "cell_type": "code",
   "execution_count": null,
   "metadata": {},
   "outputs": [],
   "source": []
  }
 ],
 "metadata": {
  "kernelspec": {
   "display_name": "base",
   "language": "python",
   "name": "python3"
  },
  "language_info": {
   "codemirror_mode": {
    "name": "ipython",
    "version": 3
   },
   "file_extension": ".py",
   "mimetype": "text/x-python",
   "name": "python",
   "nbconvert_exporter": "python",
   "pygments_lexer": "ipython3",
   "version": "3.12.4"
  }
 },
 "nbformat": 4,
 "nbformat_minor": 2
}
