{
 "cells": [
  {
   "cell_type": "code",
   "execution_count": 29,
   "metadata": {},
   "outputs": [],
   "source": [
    "one = {\n",
    "    0: '',\n",
    "    1: 'one',\n",
    "    2: 'two',\n",
    "    3: 'three',\n",
    "    4: 'four',\n",
    "    5: 'five',\n",
    "    6: 'six',\n",
    "    7: 'seven',\n",
    "    8: 'eight',\n",
    "    9: 'nine',\n",
    "    10: 'ten',\n",
    "    11: 'eleven',\n",
    "    12: 'twelve',\n",
    "    13: 'thirteen',\n",
    "    14: 'fourteen',\n",
    "    15: 'fifteen',\n",
    "    16: 'sixteen',\n",
    "    17: 'seventeen',\n",
    "    18: 'eighteen',\n",
    "    19: 'nineteen'\n",
    "}"
   ]
  },
  {
   "cell_type": "code",
   "execution_count": 30,
   "metadata": {},
   "outputs": [],
   "source": [
    "ten = {\n",
    "    2: 'twenty',\n",
    "    3: 'thirty',\n",
    "    4: 'forty',\n",
    "    5: 'fifty',\n",
    "    6: 'sixty',\n",
    "    7: 'seventy',\n",
    "    8: 'eighty',\n",
    "    9: 'ninety'\n",
    "}"
   ]
  },
  {
   "cell_type": "code",
   "execution_count": 31,
   "metadata": {},
   "outputs": [],
   "source": [
    "power = {\n",
    "    2: 'hundred',\n",
    "    3: 'thousand',\n",
    "    6: 'million',\n",
    "    9: 'biliion',\n",
    "    12: 'trillion'\n",
    "}"
   ]
  },
  {
   "cell_type": "code",
   "execution_count": 32,
   "metadata": {},
   "outputs": [],
   "source": [
    "num = 0"
   ]
  },
  {
   "cell_type": "code",
   "execution_count": null,
   "metadata": {},
   "outputs": [],
   "source": [
    "if num < 0:\n",
    "    print('negative')"
   ]
  },
  {
   "cell_type": "code",
   "execution_count": null,
   "metadata": {},
   "outputs": [],
   "source": [
    "if num == 0:\n",
    "    print('zero')"
   ]
  },
  {
   "cell_type": "code",
   "execution_count": null,
   "metadata": {},
   "outputs": [],
   "source": [
    "if num < 20:\n",
    "    print(one[num])"
   ]
  },
  {
   "cell_type": "code",
   "execution_count": null,
   "metadata": {},
   "outputs": [],
   "source": [
    "if num < 100:\n",
    "    print(ten[num // 10], one[num % 10])"
   ]
  },
  {
   "cell_type": "code",
   "execution_count": null,
   "metadata": {},
   "outputs": [],
   "source": [
    "if num < 1000:\n",
    "    print(num // 100, 'hundred', ten[num % 100 // 10], one[num % 100 % 10])"
   ]
  },
  {
   "cell_type": "code",
   "execution_count": null,
   "metadata": {},
   "outputs": [],
   "source": []
  }
 ],
 "metadata": {
  "kernelspec": {
   "display_name": "base",
   "language": "python",
   "name": "python3"
  },
  "language_info": {
   "codemirror_mode": {
    "name": "ipython",
    "version": 3
   },
   "file_extension": ".py",
   "mimetype": "text/x-python",
   "name": "python",
   "nbconvert_exporter": "python",
   "pygments_lexer": "ipython3",
   "version": "3.11.7"
  }
 },
 "nbformat": 4,
 "nbformat_minor": 2
}
