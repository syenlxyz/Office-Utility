{
 "cells": [
  {
   "cell_type": "code",
   "execution_count": 81,
   "metadata": {},
   "outputs": [],
   "source": [
    "from win32com.client import Dispatch"
   ]
  },
  {
   "cell_type": "code",
   "execution_count": 82,
   "metadata": {},
   "outputs": [],
   "source": [
    "wrd = Dispatch('Word.Application')"
   ]
  },
  {
   "cell_type": "code",
   "execution_count": 83,
   "metadata": {},
   "outputs": [
    {
     "data": {
      "text/plain": [
       "False"
      ]
     },
     "execution_count": 83,
     "metadata": {},
     "output_type": "execute_result"
    }
   ],
   "source": [
    "wrd.Visible"
   ]
  },
  {
   "cell_type": "code",
   "execution_count": 84,
   "metadata": {},
   "outputs": [
    {
     "data": {
      "text/plain": [
       "False"
      ]
     },
     "execution_count": 84,
     "metadata": {},
     "output_type": "execute_result"
    }
   ],
   "source": [
    "wrd.Options.PrintReverse"
   ]
  },
  {
   "cell_type": "code",
   "execution_count": 85,
   "metadata": {},
   "outputs": [],
   "source": [
    "from win32print import GetDefaultPrinter, OpenPrinter, GetPrinter"
   ]
  },
  {
   "cell_type": "code",
   "execution_count": 86,
   "metadata": {},
   "outputs": [
    {
     "data": {
      "text/plain": [
       "'L6270 Series(Network)'"
      ]
     },
     "execution_count": 86,
     "metadata": {},
     "output_type": "execute_result"
    }
   ],
   "source": [
    "default_printer = GetDefaultPrinter()\n",
    "default_printer"
   ]
  },
  {
   "cell_type": "code",
   "execution_count": 87,
   "metadata": {},
   "outputs": [
    {
     "data": {
      "text/plain": [
       "<PyPrinterHANDLE:2096517764432>"
      ]
     },
     "execution_count": 87,
     "metadata": {},
     "output_type": "execute_result"
    }
   ],
   "source": [
    "handle = OpenPrinter(default_printer)\n",
    "handle"
   ]
  },
  {
   "cell_type": "code",
   "execution_count": 88,
   "metadata": {},
   "outputs": [
    {
     "data": {
      "text/plain": [
       "{'pServerName': None,\n",
       " 'pPrinterName': 'L6270 Series(Network)',\n",
       " 'pShareName': '',\n",
       " 'pPortName': 'EP2BD96A:L6270 SERIES',\n",
       " 'pDriverName': 'EPSON L6270 Series',\n",
       " 'pComment': '',\n",
       " 'pLocation': '',\n",
       " 'pDevMode': <PyDEVMODEW at 0x1e823dc3d70>,\n",
       " 'pSepFile': '',\n",
       " 'pPrintProcessor': 'winprint',\n",
       " 'pDatatype': 'RAW',\n",
       " 'pParameters': '',\n",
       " 'pSecurityDescriptor': <PySECURITY_DESCRIPTOR at 0x1e821ecb0a0>,\n",
       " 'Attributes': 2112,\n",
       " 'Priority': 1,\n",
       " 'DefaultPriority': 0,\n",
       " 'StartTime': 0,\n",
       " 'UntilTime': 0,\n",
       " 'Status': 0,\n",
       " 'cJobs': 0,\n",
       " 'AveragePPM': 0}"
      ]
     },
     "execution_count": 88,
     "metadata": {},
     "output_type": "execute_result"
    }
   ],
   "source": [
    "level = 2\n",
    "printer_info = GetPrinter(handle, level)\n",
    "printer_info"
   ]
  },
  {
   "cell_type": "code",
   "execution_count": 89,
   "metadata": {},
   "outputs": [
    {
     "data": {
      "text/plain": [
       "1"
      ]
     },
     "execution_count": 89,
     "metadata": {},
     "output_type": "execute_result"
    }
   ],
   "source": [
    "printer_info['pDevMode'].Duplex"
   ]
  },
  {
   "cell_type": "code",
   "execution_count": 92,
   "metadata": {},
   "outputs": [],
   "source": [
    "from win32print import PRINTER_ENUM_LOCAL, EnumPrinters"
   ]
  },
  {
   "cell_type": "code",
   "execution_count": 101,
   "metadata": {},
   "outputs": [
    {
     "data": {
      "text/plain": [
       "((8388608,\n",
       "  'OneNote for Windows 10,Microsoft Software Printer Driver,',\n",
       "  'OneNote for Windows 10',\n",
       "  ''),\n",
       " (8388608,\n",
       "  'OneNote (Desktop),Send to Microsoft OneNote 16 Driver,',\n",
       "  'OneNote (Desktop)',\n",
       "  ''),\n",
       " (8388608,\n",
       "  'Microsoft XPS Document Writer,Microsoft XPS Document Writer v4,',\n",
       "  'Microsoft XPS Document Writer',\n",
       "  ''),\n",
       " (8388608,\n",
       "  'Microsoft Print to PDF,Microsoft Print To PDF,',\n",
       "  'Microsoft Print to PDF',\n",
       "  ''),\n",
       " (8388608,\n",
       "  'L6270 Series(Network),EPSON L6270 Series,',\n",
       "  'L6270 Series(Network)',\n",
       "  ''),\n",
       " (8388608, 'Fax,Microsoft Shared Fax Driver,', 'Fax', ''),\n",
       " (8388608, 'EPSON L6270 Series,EPSON L6270 Series,', 'EPSON L6270 Series', ''),\n",
       " (8388608, 'EPSON L3150 Series,EPSON L3150 Series,', 'EPSON L3150 Series', ''),\n",
       " (8388608,\n",
       "  'EPSON L220 Series,Epson ESC/P Standard 10 V4 Class Driver,',\n",
       "  'EPSON L220 Series',\n",
       "  ''),\n",
       " (8388608, 'Adobe PDF,Adobe PDF Converter,', 'Adobe PDF', ''),\n",
       " (8388608,\n",
       "  'ABS PDF Driver v400,Amyuni Document Converter 450,',\n",
       "  'ABS PDF Driver v400',\n",
       "  ''))"
      ]
     },
     "execution_count": 101,
     "metadata": {},
     "output_type": "execute_result"
    }
   ],
   "source": [
    "printer_list = EnumPrinters(PRINTER_ENUM_LOCAL)\n",
    "printer_list"
   ]
  },
  {
   "cell_type": "code",
   "execution_count": 124,
   "metadata": {},
   "outputs": [
    {
     "name": "stdout",
     "output_type": "stream",
     "text": [
      "0\n",
      "0\n",
      "0\n",
      "0\n"
     ]
    }
   ],
   "source": [
    "for printer in printer_list:\n",
    "    printer_name = printer[2]\n",
    "    if 'Microsoft' in printer_name:\n",
    "        continue\n",
    "    if 'OneNote' in printer_name:\n",
    "        continue\n",
    "    if 'Fax' in printer_name:\n",
    "        continue\n",
    "    if 'PDF' in printer_name:\n",
    "        continue\n",
    "    handle = OpenPrinter(printer_name)\n",
    "    printer_info = GetPrinter(handle, level)\n",
    "    print(printer_info['Status'])"
   ]
  },
  {
   "cell_type": "code",
   "execution_count": 99,
   "metadata": {},
   "outputs": [],
   "source": [
    "from win32print import *"
   ]
  },
  {
   "cell_type": "code",
   "execution_count": 125,
   "metadata": {},
   "outputs": [
    {
     "data": {
      "text/plain": [
       "{'pServerName': None,\n",
       " 'pPrinterName': 'EPSON L220 Series',\n",
       " 'pShareName': '',\n",
       " 'pPortName': 'USB005',\n",
       " 'pDriverName': 'Epson ESC/P Standard 10 V4 Class Driver',\n",
       " 'pComment': '',\n",
       " 'pLocation': '',\n",
       " 'pDevMode': <PyDEVMODEW at 0x1e823dc2970>,\n",
       " 'pSepFile': '',\n",
       " 'pPrintProcessor': 'winprint',\n",
       " 'pDatatype': 'RAW',\n",
       " 'pParameters': '',\n",
       " 'pSecurityDescriptor': <PySECURITY_DESCRIPTOR at 0x1e821ecb540>,\n",
       " 'Attributes': 1600,\n",
       " 'Priority': 1,\n",
       " 'DefaultPriority': 0,\n",
       " 'StartTime': 0,\n",
       " 'UntilTime': 0,\n",
       " 'Status': 0,\n",
       " 'cJobs': 0,\n",
       " 'AveragePPM': 0}"
      ]
     },
     "execution_count": 125,
     "metadata": {},
     "output_type": "execute_result"
    }
   ],
   "source": [
    "printer_info['Attributes']"
   ]
  },
  {
   "cell_type": "code",
   "execution_count": 137,
   "metadata": {},
   "outputs": [
    {
     "data": {
      "text/plain": [
       "1024"
      ]
     },
     "execution_count": 137,
     "metadata": {},
     "output_type": "execute_result"
    }
   ],
   "source": [
    "PRINTER_ATTRIBUTE_WORK_OFFLINE"
   ]
  },
  {
   "cell_type": "code",
   "execution_count": null,
   "metadata": {},
   "outputs": [],
   "source": []
  }
 ],
 "metadata": {
  "kernelspec": {
   "display_name": "base",
   "language": "python",
   "name": "python3"
  },
  "language_info": {
   "codemirror_mode": {
    "name": "ipython",
    "version": 3
   },
   "file_extension": ".py",
   "mimetype": "text/x-python",
   "name": "python",
   "nbconvert_exporter": "python",
   "pygments_lexer": "ipython3",
   "version": "3.12.4"
  }
 },
 "nbformat": 4,
 "nbformat_minor": 2
}
