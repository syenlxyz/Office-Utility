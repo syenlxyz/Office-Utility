{
 "cells": [
  {
   "cell_type": "code",
   "execution_count": 1,
   "metadata": {},
   "outputs": [],
   "source": [
    "from pathlib import Path"
   ]
  },
  {
   "cell_type": "code",
   "execution_count": 2,
   "metadata": {},
   "outputs": [],
   "source": [
    "input_path = Path('C:/Users/syenl/Desktop/Python-Tools/project')\n",
    "file_list = list(input_path.iterdir())\n",
    "folder_list = []\n",
    "for path in file_list:\n",
    "    if path.is_dir():\n",
    "        folder_list.append(path)"
   ]
  },
  {
   "cell_type": "code",
   "execution_count": 3,
   "metadata": {},
   "outputs": [
    {
     "name": "stdout",
     "output_type": "stream",
     "text": [
      "https://github.com/syenlxyz/Python-Tools/tree/main/project/acrobat-file2pdf\n",
      "https://github.com/syenlxyz/Python-Tools/tree/main/project/acrobat-file2print\n",
      "https://github.com/syenlxyz/Python-Tools/tree/main/project/acrobat-pagecount\n",
      "https://github.com/syenlxyz/Python-Tools/tree/main/project/emby-mp3metadata\n",
      "https://github.com/syenlxyz/Python-Tools/tree/main/project/emby-mp4metadata\n",
      "https://github.com/syenlxyz/Python-Tools/tree/main/project/emby-tvepisode\n",
      "https://github.com/syenlxyz/Python-Tools/tree/main/project/emby-tvsubtitle\n",
      "https://github.com/syenlxyz/Python-Tools/tree/main/project/file-count\n",
      "https://github.com/syenlxyz/Python-Tools/tree/main/project/file-merge\n",
      "https://github.com/syenlxyz/Python-Tools/tree/main/project/file-rename\n",
      "https://github.com/syenlxyz/Python-Tools/tree/main/project/file-split\n",
      "https://github.com/syenlxyz/Python-Tools/tree/main/project/word-doc2docx\n",
      "https://github.com/syenlxyz/Python-Tools/tree/main/project/word-docx2doc\n",
      "https://github.com/syenlxyz/Python-Tools/tree/main/project/word-file2pdf\n",
      "https://github.com/syenlxyz/Python-Tools/tree/main/project/word-file2print\n",
      "https://github.com/syenlxyz/Python-Tools/tree/main/project/word-pagecount\n",
      "https://github.com/syenlxyz/Python-Tools/tree/main/project/youtube-mp3download\n",
      "https://github.com/syenlxyz/Python-Tools/tree/main/project/youtube-mp4download\n"
     ]
    }
   ],
   "source": [
    "base_url = 'https://github.com/syenlxyz/Python-Tools/tree/main/project/'\n",
    "for folder_path in folder_list:\n",
    "    name = folder_path.name\n",
    "    url = base_url + name\n",
    "    print(url)"
   ]
  },
  {
   "cell_type": "code",
   "execution_count": null,
   "metadata": {},
   "outputs": [],
   "source": []
  }
 ],
 "metadata": {
  "kernelspec": {
   "display_name": "base",
   "language": "python",
   "name": "python3"
  },
  "language_info": {
   "codemirror_mode": {
    "name": "ipython",
    "version": 3
   },
   "file_extension": ".py",
   "mimetype": "text/x-python",
   "name": "python",
   "nbconvert_exporter": "python",
   "pygments_lexer": "ipython3",
   "version": "3.11.7"
  }
 },
 "nbformat": 4,
 "nbformat_minor": 2
}
