{
 "cells": [
  {
   "cell_type": "code",
   "execution_count": 1,
   "metadata": {},
   "outputs": [
    {
     "name": "stdout",
     "output_type": "stream",
     "text": [
      "C:/Users/SyenLxyz/Desktop/Mini-Projects/.gitignore\n"
     ]
    }
   ],
   "source": [
    "from tkinter import filedialog\n",
    "\n",
    "# Display the dialog for browsing files.\n",
    "filename = filedialog.askopenfilename()\n",
    "# Print the selected file path.\n",
    "print(filename)"
   ]
  },
  {
   "cell_type": "code",
   "execution_count": 2,
   "metadata": {},
   "outputs": [
    {
     "name": "stdout",
     "output_type": "stream",
     "text": [
      "No file selected.\n"
     ]
    }
   ],
   "source": [
    "from pathlib import Path\n",
    "from tkinter import filedialog\n",
    "\n",
    "filename = filedialog.askopenfilename()\n",
    "if filename:\n",
    "    # Read and print the content (in bytes) of the file.\n",
    "    print(Path(filename).read_bytes())\n",
    "else:\n",
    "    print(\"No file selected.\")"
   ]
  },
  {
   "cell_type": "code",
   "execution_count": 3,
   "metadata": {},
   "outputs": [
    {
     "name": "stdout",
     "output_type": "stream",
     "text": [
      "Selected files:\n",
      "C:/Users/SyenLxyz/Desktop/Mini-Projects/Print-Pdf/run.bat\n",
      "C:/Users/SyenLxyz/Desktop/Mini-Projects/Print-Pdf/run.py\n"
     ]
    }
   ],
   "source": [
    "filenames = filedialog.askopenfilenames()\n",
    "if filenames:\n",
    "    print(\"Selected files:\")\n",
    "    for filename in filenames:\n",
    "        print(filename)\n",
    "else:\n",
    "    print(\"No files selected.\")"
   ]
  },
  {
   "cell_type": "code",
   "execution_count": 4,
   "metadata": {},
   "outputs": [
    {
     "name": "stdout",
     "output_type": "stream",
     "text": [
      "C:/Users/SyenLxyz/Desktop/Mini-Projects\n"
     ]
    }
   ],
   "source": [
    "directory = filedialog.askdirectory()\n",
    "print(directory)"
   ]
  },
  {
   "cell_type": "code",
   "execution_count": 5,
   "metadata": {},
   "outputs": [
    {
     "name": "stdout",
     "output_type": "stream",
     "text": [
      "C:/Users/SyenLxyz/Desktop/Mini-Projects/output.json\n"
     ]
    }
   ],
   "source": [
    "# File save dialog.\n",
    "filename = filedialog.asksaveasfilename()\n",
    "print(filename)"
   ]
  },
  {
   "cell_type": "code",
   "execution_count": 6,
   "metadata": {},
   "outputs": [],
   "source": [
    "filename = filedialog.askopenfilename(\n",
    "    filetypes=(\n",
    "        (\"Text files\", \"*.txt\"),\n",
    "        (\"Python Files\", (\"*.py\", \"*.pyx\")),\n",
    "        (\"All Files\", \"*.*\")\n",
    "    )\n",
    ")"
   ]
  },
  {
   "cell_type": "code",
   "execution_count": 7,
   "metadata": {},
   "outputs": [],
   "source": [
    "# Initialize in the drive root.\n",
    "filename = filedialog.askopenfilename(initialdir=\"C:/\")"
   ]
  },
  {
   "cell_type": "code",
   "execution_count": 8,
   "metadata": {},
   "outputs": [],
   "source": [
    "# DO NOT RUN\n",
    "from pathlib import Path\n",
    "from tkinter import filedialog\n",
    "import sys\n",
    "\n",
    "'''\n",
    "filename = filedialog.askopenfilename(\n",
    "    initialdir=Path(sys.executable).parent\n",
    ")\n",
    "'''"
   ]
  },
  {
   "cell_type": "code",
   "execution_count": null,
   "metadata": {},
   "outputs": [],
   "source": []
  },
  {
   "cell_type": "code",
   "execution_count": 9,
   "metadata": {},
   "outputs": [],
   "source": [
    "import tkinter as tk\n",
    "from tkinter import ttk\n",
    "from tkinter import filedialog as fd\n",
    "from tkinter.messagebox import showinfo\n",
    "\n",
    "# create the root window\n",
    "root = tk.Tk()\n",
    "root.title('Tkinter Open File Dialog')\n",
    "root.resizable(False, False)\n",
    "root.geometry('300x150')\n",
    "\n",
    "\n",
    "def select_file():\n",
    "    filetypes = (\n",
    "        ('text files', '*.txt'),\n",
    "        ('All files', '*.*')\n",
    "    )\n",
    "\n",
    "    filename = fd.askopenfilename(\n",
    "        title='Open a file',\n",
    "        initialdir='/',\n",
    "        filetypes=filetypes)\n",
    "\n",
    "    showinfo(\n",
    "        title='Selected File',\n",
    "        message=filename\n",
    "    )\n",
    "\n",
    "\n",
    "# open button\n",
    "open_button = ttk.Button(\n",
    "    root,\n",
    "    text='Open a File',\n",
    "    command=select_file\n",
    ")\n",
    "\n",
    "open_button.pack(expand=True)\n",
    "\n",
    "\n",
    "# run the application\n",
    "root.mainloop()"
   ]
  },
  {
   "cell_type": "code",
   "execution_count": 10,
   "metadata": {},
   "outputs": [],
   "source": [
    "import tkinter as tk\n",
    "from tkinter import ttk\n",
    "from tkinter import filedialog as fd\n",
    "from tkinter.messagebox import showinfo\n",
    "\n",
    "# create the root window\n",
    "root = tk.Tk()\n",
    "root.title('Tkinter File Dialog')\n",
    "root.resizable(False, False)\n",
    "root.geometry('300x150')\n",
    "\n",
    "\n",
    "def select_files():\n",
    "    filetypes = (\n",
    "        ('text files', '*.txt'),\n",
    "        ('All files', '*.*')\n",
    "    )\n",
    "\n",
    "    filenames = fd.askopenfilenames(\n",
    "        title='Open files',\n",
    "        initialdir='/',\n",
    "        filetypes=filetypes)\n",
    "\n",
    "    showinfo(\n",
    "        title='Selected Files',\n",
    "        message=filenames\n",
    "    )\n",
    "\n",
    "\n",
    "# open button\n",
    "open_button = ttk.Button(\n",
    "    root,\n",
    "    text='Open Files',\n",
    "    command=select_files\n",
    ")\n",
    "\n",
    "open_button.pack(expand=True)\n",
    "\n",
    "root.mainloop()"
   ]
  },
  {
   "cell_type": "code",
   "execution_count": 11,
   "metadata": {},
   "outputs": [],
   "source": [
    "import tkinter as tk\n",
    "from tkinter import ttk\n",
    "from tkinter import filedialog as fd\n",
    "\n",
    "# Root window\n",
    "root = tk.Tk()\n",
    "root.title('Display a Text File')\n",
    "root.resizable(False, False)\n",
    "root.geometry('550x250')\n",
    "\n",
    "# Text editor\n",
    "text = tk.Text(root, height=12)\n",
    "text.grid(column=0, row=0, sticky='nsew')\n",
    "\n",
    "\n",
    "def open_text_file():\n",
    "    # file type\n",
    "    filetypes = (\n",
    "        ('text files', '*.txt'),\n",
    "        ('All files', '*.*')\n",
    "    )\n",
    "    # show the open file dialog\n",
    "    f = fd.askopenfile(filetypes=filetypes)\n",
    "    # read the text file and show its content on the Text\n",
    "    text.insert('1.0', f.readlines())\n",
    "\n",
    "\n",
    "# open file button\n",
    "open_button = ttk.Button(\n",
    "    root,\n",
    "    text='Open a File',\n",
    "    command=open_text_file\n",
    ")\n",
    "\n",
    "open_button.grid(column=0, row=1, sticky='w', padx=10, pady=10)\n",
    "\n",
    "\n",
    "root.mainloop()"
   ]
  },
  {
   "cell_type": "code",
   "execution_count": null,
   "metadata": {},
   "outputs": [],
   "source": []
  },
  {
   "cell_type": "code",
   "execution_count": 12,
   "metadata": {},
   "outputs": [],
   "source": [
    "import tkinter as tk\n",
    "from tkinter import filedialog\n",
    "\n",
    "root = tk.Tk()\n",
    "root.withdraw()\n",
    "\n",
    "file_path = filedialog.askopenfilename()\n",
    "file_path"
   ]
  },
  {
   "cell_type": "code",
   "execution_count": null,
   "metadata": {},
   "outputs": [],
   "source": []
  }
 ],
 "metadata": {
  "kernelspec": {
   "display_name": "base",
   "language": "python",
   "name": "python3"
  },
  "language_info": {
   "codemirror_mode": {
    "name": "ipython",
    "version": 3
   },
   "file_extension": ".py",
   "mimetype": "text/x-python",
   "name": "python",
   "nbconvert_exporter": "python",
   "pygments_lexer": "ipython3",
   "version": "3.9.16"
  }
 },
 "nbformat": 4,
 "nbformat_minor": 2
}
