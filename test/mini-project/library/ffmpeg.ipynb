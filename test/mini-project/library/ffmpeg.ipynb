{
 "cells": [
  {
   "cell_type": "code",
   "execution_count": 1,
   "metadata": {},
   "outputs": [],
   "source": [
    "from pathlib import Path\n",
    "import subprocess"
   ]
  },
  {
   "cell_type": "code",
   "execution_count": 2,
   "metadata": {},
   "outputs": [],
   "source": [
    "input_path = Path.cwd() / 'input'\n",
    "output_path = Path.cwd() / 'output'"
   ]
  },
  {
   "cell_type": "code",
   "execution_count": 3,
   "metadata": {},
   "outputs": [
    {
     "data": {
      "text/plain": [
       "CompletedProcess(args='ffmpeg -i c:\\\\Users\\\\syenl\\\\Desktop\\\\Media-Server-Utility\\\\library\\\\input\\\\sample1.mkv c:\\\\Users\\\\syenl\\\\Desktop\\\\Media-Server-Utility\\\\library\\\\output\\\\output1.mp4', returncode=0)"
      ]
     },
     "execution_count": 3,
     "metadata": {},
     "output_type": "execute_result"
    }
   ],
   "source": [
    "input_mkv = input_path / 'sample1.mkv'\n",
    "output_mp4 = output_path / 'output1.mp4'\n",
    "subprocess.run(f'ffmpeg -i {input_mkv} {output_mp4}')"
   ]
  },
  {
   "cell_type": "code",
   "execution_count": null,
   "metadata": {},
   "outputs": [],
   "source": []
  },
  {
   "cell_type": "code",
   "execution_count": 4,
   "metadata": {},
   "outputs": [
    {
     "data": {
      "text/plain": [
       "CompletedProcess(args='ffmpeg -i c:\\\\Users\\\\syenl\\\\Desktop\\\\Media-Server-Utility\\\\library\\\\input\\\\sample1.mkv -c copy c:\\\\Users\\\\syenl\\\\Desktop\\\\Media-Server-Utility\\\\library\\\\output\\\\output1c.mp4', returncode=0)"
      ]
     },
     "execution_count": 4,
     "metadata": {},
     "output_type": "execute_result"
    }
   ],
   "source": [
    "input_mkv = input_path / 'sample1.mkv'\n",
    "output_mp4 = output_path / 'output1c.mp4'\n",
    "subprocess.run(f'ffmpeg -i {input_mkv} -c copy {output_mp4}')"
   ]
  },
  {
   "cell_type": "code",
   "execution_count": 5,
   "metadata": {},
   "outputs": [
    {
     "data": {
      "text/plain": [
       "CompletedProcess(args='ffmpeg -i c:\\\\Users\\\\syenl\\\\Desktop\\\\Media-Server-Utility\\\\library\\\\input\\\\sample2.mov c:\\\\Users\\\\syenl\\\\Desktop\\\\Media-Server-Utility\\\\library\\\\output\\\\output2.mp4', returncode=0)"
      ]
     },
     "execution_count": 5,
     "metadata": {},
     "output_type": "execute_result"
    }
   ],
   "source": [
    "input_mov = input_path / 'sample2.mov'\n",
    "output_mp4 = output_path / 'output2.mp4'\n",
    "subprocess.run(f'ffmpeg -i {input_mov} {output_mp4}')"
   ]
  },
  {
   "cell_type": "code",
   "execution_count": 6,
   "metadata": {},
   "outputs": [
    {
     "data": {
      "text/plain": [
       "CompletedProcess(args='ffmpeg -i c:\\\\Users\\\\syenl\\\\Desktop\\\\Media-Server-Utility\\\\library\\\\input\\\\sample3.webm c:\\\\Users\\\\syenl\\\\Desktop\\\\Media-Server-Utility\\\\library\\\\output\\\\output3.mp4', returncode=0)"
      ]
     },
     "execution_count": 6,
     "metadata": {},
     "output_type": "execute_result"
    }
   ],
   "source": [
    "input_webm = input_path / 'sample3.webm'\n",
    "output_mp4 = output_path / 'output3.mp4'\n",
    "subprocess.run(f'ffmpeg -i {input_webm} {output_mp4}')"
   ]
  },
  {
   "cell_type": "code",
   "execution_count": null,
   "metadata": {},
   "outputs": [],
   "source": []
  },
  {
   "cell_type": "code",
   "execution_count": 7,
   "metadata": {},
   "outputs": [
    {
     "data": {
      "text/plain": [
       "CompletedProcess(args='ffmpeg -i c:\\\\Users\\\\syenl\\\\Desktop\\\\Media-Server-Utility\\\\library\\\\input\\\\sample4.mp4 c:\\\\Users\\\\syenl\\\\Desktop\\\\Media-Server-Utility\\\\library\\\\output\\\\output4.mp3', returncode=0)"
      ]
     },
     "execution_count": 7,
     "metadata": {},
     "output_type": "execute_result"
    }
   ],
   "source": [
    "input_mp4 = input_path / 'sample4.mp4'\n",
    "output_mp3 = output_path / 'output4.mp3'\n",
    "subprocess.run(f'ffmpeg -i {input_mp4} {output_mp3}')"
   ]
  },
  {
   "cell_type": "code",
   "execution_count": null,
   "metadata": {},
   "outputs": [],
   "source": []
  },
  {
   "cell_type": "code",
   "execution_count": 8,
   "metadata": {},
   "outputs": [
    {
     "data": {
      "text/plain": [
       "CompletedProcess(args='ffmpeg -i c:\\\\Users\\\\syenl\\\\Desktop\\\\Media-Server-Utility\\\\library\\\\input\\\\sample2.mov -vcodec libx264 -acodec libshine c:\\\\Users\\\\syenl\\\\Desktop\\\\Media-Server-Utility\\\\library\\\\output\\\\output5.mp4', returncode=0)"
      ]
     },
     "execution_count": 8,
     "metadata": {},
     "output_type": "execute_result"
    }
   ],
   "source": [
    "input_mov = input_path / 'sample2.mov'\n",
    "vcodec = 'libx264'\n",
    "acodec = 'libshine'\n",
    "output_mp4 = output_path / 'output5.mp4'\n",
    "subprocess.run(f'ffmpeg -i {input_mov} -vcodec {vcodec} -acodec {acodec} {output_mp4}')"
   ]
  },
  {
   "cell_type": "code",
   "execution_count": 9,
   "metadata": {},
   "outputs": [
    {
     "data": {
      "text/plain": [
       "CompletedProcess(args='ffmpeg -i c:\\\\Users\\\\syenl\\\\Desktop\\\\Media-Server-Utility\\\\library\\\\output\\\\output3.mp4 -i c:\\\\Users\\\\syenl\\\\Desktop\\\\Media-Server-Utility\\\\library\\\\output\\\\output4.mp3 -c copy c:\\\\Users\\\\syenl\\\\Desktop\\\\Media-Server-Utility\\\\library\\\\output\\\\output6.mp4', returncode=0)"
      ]
     },
     "execution_count": 9,
     "metadata": {},
     "output_type": "execute_result"
    }
   ],
   "source": [
    "video_file = output_path / 'output3.mp4'\n",
    "audio_file = output_path / 'output4.mp3'\n",
    "codec = 'copy'\n",
    "output_file = output_path / 'output6.mp4'\n",
    "subprocess.run(f'ffmpeg -i {video_file} -i {audio_file} -c {codec} {output_file}')"
   ]
  },
  {
   "cell_type": "code",
   "execution_count": null,
   "metadata": {},
   "outputs": [],
   "source": []
  }
 ],
 "metadata": {
  "kernelspec": {
   "display_name": "base",
   "language": "python",
   "name": "python3"
  },
  "language_info": {
   "codemirror_mode": {
    "name": "ipython",
    "version": 3
   },
   "file_extension": ".py",
   "mimetype": "text/x-python",
   "name": "python",
   "nbconvert_exporter": "python",
   "pygments_lexer": "ipython3",
   "version": "3.11.7"
  }
 },
 "nbformat": 4,
 "nbformat_minor": 2
}
