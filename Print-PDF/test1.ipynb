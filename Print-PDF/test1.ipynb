{
 "cells": [
  {
   "cell_type": "code",
   "execution_count": 1,
   "metadata": {},
   "outputs": [],
   "source": [
    "from pathlib import Path"
   ]
  },
  {
   "cell_type": "code",
   "execution_count": 2,
   "metadata": {},
   "outputs": [],
   "source": [
    "input_path = Path.cwd() / 'input'\n",
    "file_list = list(input_path.glob('*.pdf'))\n",
    "file_path = file_list[0]"
   ]
  },
  {
   "cell_type": "code",
   "execution_count": null,
   "metadata": {},
   "outputs": [],
   "source": []
  },
  {
   "cell_type": "code",
   "execution_count": 1,
   "metadata": {},
   "outputs": [],
   "source": [
    "from win32com.client import Dispatch"
   ]
  },
  {
   "cell_type": "code",
   "execution_count": 4,
   "metadata": {},
   "outputs": [
    {
     "data": {
      "text/plain": [
       "True"
      ]
     },
     "execution_count": 4,
     "metadata": {},
     "output_type": "execute_result"
    }
   ],
   "source": [
    "app = Dispatch('AcroExch.App')\n",
    "app.Hide()"
   ]
  },
  {
   "cell_type": "code",
   "execution_count": 5,
   "metadata": {},
   "outputs": [
    {
     "data": {
      "text/plain": [
       "True"
      ]
     },
     "execution_count": 5,
     "metadata": {},
     "output_type": "execute_result"
    }
   ],
   "source": [
    "avDoc = Dispatch('AcroExch.AVDoc')\n",
    "avDoc.Open(file_path, file_path)"
   ]
  },
  {
   "cell_type": "code",
   "execution_count": null,
   "metadata": {},
   "outputs": [],
   "source": []
  },
  {
   "cell_type": "code",
   "execution_count": 6,
   "metadata": {},
   "outputs": [
    {
     "data": {
      "text/plain": [
       "3"
      ]
     },
     "execution_count": 6,
     "metadata": {},
     "output_type": "execute_result"
    }
   ],
   "source": [
    "pdDoc = avDoc.GetPDDoc()\n",
    "num_page = pdDoc.GetNumPages()\n",
    "num_page"
   ]
  },
  {
   "cell_type": "code",
   "execution_count": 7,
   "metadata": {},
   "outputs": [],
   "source": [
    "iPageOption = {\n",
    "    'PDAllPages': -3,\n",
    "    'PDOddPagesOnly': -4,\n",
    "    'PDEvenPagesOnly': -5\n",
    "}"
   ]
  },
  {
   "cell_type": "code",
   "execution_count": 32,
   "metadata": {},
   "outputs": [
    {
     "data": {
      "text/plain": [
       "True"
      ]
     },
     "execution_count": 32,
     "metadata": {},
     "output_type": "execute_result"
    }
   ],
   "source": [
    "params = {\n",
    "    'nFirstPage': 0,\n",
    "    'nLastPage': num_page - 1,\n",
    "    'nPSLevel': 3,\n",
    "    'bBinaryOk': False,\n",
    "    'bShrinkToFit': True,\n",
    "    'bReverse': False,\n",
    "    'bFarEastFontOpt': False,\n",
    "    'bEmitHalftones': True,\n",
    "    'iPageOption': iPageOption['PDEvenPagesOnly']\n",
    "}\n",
    "\n",
    "avDoc.PrintPagesEx(**params)"
   ]
  },
  {
   "cell_type": "code",
   "execution_count": null,
   "metadata": {},
   "outputs": [],
   "source": []
  },
  {
   "cell_type": "code",
   "execution_count": null,
   "metadata": {},
   "outputs": [],
   "source": [
    "avDoc.Close(True)"
   ]
  },
  {
   "cell_type": "code",
   "execution_count": 1,
   "metadata": {},
   "outputs": [],
   "source": [
    "import psutil"
   ]
  },
  {
   "cell_type": "code",
   "execution_count": 2,
   "metadata": {},
   "outputs": [],
   "source": [
    "process_list = list(psutil.process_iter())\n",
    "for process in process_list:\n",
    "    if process.name() == 'Acrobat.exe':\n",
    "        process.terminate()"
   ]
  },
  {
   "cell_type": "code",
   "execution_count": null,
   "metadata": {},
   "outputs": [],
   "source": []
  },
  {
   "cell_type": "code",
   "execution_count": 6,
   "metadata": {},
   "outputs": [],
   "source": [
    "from win32print import GetDefaultPrinter, SetDefaultPrinter"
   ]
  },
  {
   "cell_type": "code",
   "execution_count": 7,
   "metadata": {},
   "outputs": [
    {
     "data": {
      "text/plain": [
       "'EPSON L3150 Series'"
      ]
     },
     "execution_count": 7,
     "metadata": {},
     "output_type": "execute_result"
    }
   ],
   "source": [
    "GetDefaultPrinter()"
   ]
  },
  {
   "cell_type": "code",
   "execution_count": 8,
   "metadata": {},
   "outputs": [],
   "source": [
    "SetDefaultPrinter('EPSON L3150 Series')"
   ]
  },
  {
   "cell_type": "code",
   "execution_count": null,
   "metadata": {},
   "outputs": [],
   "source": []
  },
  {
   "cell_type": "code",
   "execution_count": null,
   "metadata": {},
   "outputs": [],
   "source": [
    "import win32com.client\n",
    "import win32print\n",
    "\n",
    "def set_default_printer(printer_name):\n",
    "    \"\"\"Set the system default printer.\"\"\"\n",
    "    win32print.SetDefaultPrinter(printer_name)\n",
    "\n",
    "def get_default_printer():\n",
    "    \"\"\"Get the current default printer.\"\"\"\n",
    "    return win32print.GetDefaultPrinter()\n",
    "\n",
    "def print_pdf(file_path, printer_name=None):\n",
    "    # Get the current default printer\n",
    "    original_printer = get_default_printer()\n",
    "\n",
    "    try:\n",
    "        # If a printer is specified, set it as the default printer\n",
    "        if printer_name:\n",
    "            set_default_printer(printer_name)\n",
    "\n",
    "        # Create the Acrobat Application object\n",
    "        acrobat_app = win32com.client.Dispatch(\"AcroExch.App\")\n",
    "\n",
    "        # Create the AVDoc object (used to handle the document)\n",
    "        av_doc = win32com.client.Dispatch(\"AcroExch.AVDoc\")\n",
    "\n",
    "        # Open the document\n",
    "        if av_doc.Open(file_path, \"\"):\n",
    "            # Print the document silently\n",
    "            av_doc.PrintPagesSilent(0, av_doc.GetNumPages() - 1, 1, False)\n",
    "            \n",
    "            # Close the document\n",
    "            av_doc.Close(True)\n",
    "            \n",
    "            # Quit Acrobat application\n",
    "            acrobat_app.CloseAllDocs()\n",
    "            acrobat_app.Exit()\n",
    "            print(\"PDF sent to printer successfully.\")\n",
    "        else:\n",
    "            print(\"Failed to open PDF file.\")\n",
    "    \n",
    "    finally:\n",
    "        # Restore the original default printer\n",
    "        set_default_printer(original_printer)\n",
    "\n",
    "# Specify the PDF file path\n",
    "pdf_file = \"C:/path_to_your_pdf_file/example.pdf\"\n",
    "\n",
    "# Specify the desired printer name\n",
    "printer_name = \"Your Printer Name\"\n",
    "\n",
    "# Call the function to print the PDF\n",
    "print_pdf(pdf_file, printer_name)\n"
   ]
  },
  {
   "cell_type": "code",
   "execution_count": null,
   "metadata": {},
   "outputs": [],
   "source": []
  },
  {
   "cell_type": "code",
   "execution_count": null,
   "metadata": {},
   "outputs": [],
   "source": []
  },
  {
   "cell_type": "code",
   "execution_count": null,
   "metadata": {},
   "outputs": [],
   "source": []
  }
 ],
 "metadata": {
  "kernelspec": {
   "display_name": "base",
   "language": "python",
   "name": "python3"
  },
  "language_info": {
   "codemirror_mode": {
    "name": "ipython",
    "version": 3
   },
   "file_extension": ".py",
   "mimetype": "text/x-python",
   "name": "python",
   "nbconvert_exporter": "python",
   "pygments_lexer": "ipython3",
   "version": "3.12.4"
  }
 },
 "nbformat": 4,
 "nbformat_minor": 2
}
